{
 "cells": [
  {
   "cell_type": "markdown",
   "metadata": {},
   "source": [
    "### These preprocessing steps aim to refine the text data, reduce noise, and create a more structured dataset that facilitates accurate analysis "
   ]
  },
  {
   "cell_type": "code",
   "execution_count": null,
   "metadata": {},
   "outputs": [],
   "source": [
    "# Download stopwords if not already downloaded\n",
    "nltk.download('stopwords')\n",
    "\n",
    "# Function to remove punctuation, stopwords, and convert text to lowercase\n",
    "def remove_punctuation_and_stopwords(text):\n",
    "    # Remove punctuation\n",
    "    text = text.translate(str.maketrans('', '', string.punctuation))\n",
    "    # Convert to lowercase\n",
    "    text = text.lower()\n",
    "    # Remove stopwords\n",
    "    stop_words = set(stopwords.words('english'))\n",
    "    words = text.split()\n",
    "    text = \" \".join([word for word in words if word not in stop_words])\n",
    "    return text\n",
    "\n",
    "# Apply the remove_punctuation_and_stopwords function to a DataFrame's 'text' column\n",
    "def clean_and_print(df):\n",
    "    df[\"text\"] = df[\"text\"].apply(remove_punctuation_and_stopwords)\n",
    "    print(\"After cleaning:\")\n",
    "    print(df.head().text.values)\n",
    "    return df.head()\n",
    "\n",
    "dfT = pd.DataFrame(dfT)\n",
    "dfF = pd.DataFrame(dfF)\n",
    "\n",
    "# Apply the cleaning function to the DataFrame\n",
    "clean_and_print(dfT)\n",
    "clean_and_print(dfF)"
   ]
  },
  {
   "cell_type": "code",
   "execution_count": null,
   "metadata": {},
   "outputs": [],
   "source": [
    "# Initialize the Porter Stemmer\n",
    "stemmer = PorterStemmer()\n",
    "\n",
    "# Function to remove punctuation, stopwords, and perform stemming\n",
    "def preprocess_text(text, remove_punctuation=True, remove_stopwords=True, perform_stemming=True):\n",
    "    if remove_punctuation:\n",
    "        text = text.translate(str.maketrans('', '', string.punctuation))\n",
    "    text = text.lower()\n",
    "\n",
    "    if remove_stopwords:\n",
    "        stop_words = set(stopwords.words('english'))\n",
    "        words = text.split()\n",
    "        words = [word for word in words if word not in stop_words]\n",
    "        text = \" \".join(words)\n",
    "\n",
    "    if perform_stemming:\n",
    "        words = text.split()\n",
    "        stemmed_words = [stemmer.stem(word) for word in words]\n",
    "        text = \" \".join(stemmed_words)\n",
    "\n",
    "    return text\n",
    "\n",
    "# Apply the preprocess_text function to a DataFrame's 'text' column\n",
    "def clean_and_print(df, remove_punctuation=True, remove_stopwords=True, perform_stemming=True):\n",
    "    df[\"text\"] = df[\"text\"].apply(lambda text: preprocess_text(text, remove_punctuation, remove_stopwords, perform_stemming))\n",
    "    print(\"After preprocessing:\")\n",
    "    print(df.head().text.values)\n",
    "    return df.head()\n",
    "\n",
    "# Preprocess text in the DataFrames\n",
    "clean_and_print(dfT, remove_punctuation=True, remove_stopwords=True, perform_stemming=True)\n",
    "clean_and_print(dfF, remove_punctuation=True, remove_stopwords=True, perform_stemming=True)"
   ]
  }
 ],
 "metadata": {
  "kernelspec": {
   "display_name": "Python 3",
   "language": "python",
   "name": "python3"
  },
  "language_info": {
   "codemirror_mode": {
    "name": "ipython",
    "version": 3
   },
   "file_extension": ".py",
   "mimetype": "text/x-python",
   "name": "python",
   "nbconvert_exporter": "python",
   "pygments_lexer": "ipython3",
   "version": "3.7.4"
  }
 },
 "nbformat": 4,
 "nbformat_minor": 2
}
